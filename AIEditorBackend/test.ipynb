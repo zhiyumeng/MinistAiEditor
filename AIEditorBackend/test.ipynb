{
 "cells": [
  {
   "cell_type": "code",
   "execution_count": 2,
   "metadata": {},
   "outputs": [
    {
     "name": "stdout",
     "output_type": "stream",
     "text": [
      " hello world i love listen the song 92.965\n",
      "time: 7.585299015045166\n"
     ]
    }
   ],
   "source": [
    "# -*- coding: UTF-8 -*-\n",
    "\n",
    "# import curses\n",
    "# from curses.ascii import isdigit\n",
    "import nltk\n",
    "from nltk.corpus import cmudict\n",
    "from nltk.tokenize import sent_tokenize, word_tokenize\n",
    "import numpy as np\n",
    "import pandas as pd\n",
    "# import string\n",
    "import spacy\n",
    "\n",
    "\n",
    "def syllables(word):\n",
    "    '''\n",
    "    利用规则判断单词的音节数,\n",
    "    输入：单词，\n",
    "    输出：数字\n",
    "    '''\n",
    "    # referred from stackoverflow.com/questions/14541303/count-the-number-of-syllables-in-a-word\n",
    "    count = 0\n",
    "    vowels = 'aeiouy'\n",
    "    word = word.lower()\n",
    "    if word[0] in vowels:\n",
    "        count += 1\n",
    "    for index in range(1, len(word)):\n",
    "        if word[index] in vowels and word[index - 1] not in vowels:\n",
    "            count += 1\n",
    "    if word.endswith('e'):\n",
    "        count -= 1\n",
    "    if word.endswith('le'):\n",
    "        count += 1\n",
    "    if count == 0:\n",
    "        count += 1\n",
    "    return count\n",
    "\n",
    "\n",
    "def cmusyl(word):\n",
    "    '''\n",
    "    利用 cmu dataset 判断单词的音节数;\n",
    "    如果单词不在 cmu dataset 里面则利用规则判断（函数：syllables）\n",
    "    输入：单词，\n",
    "    输出：数字list\n",
    "    '''\n",
    "    \n",
    "    try:\n",
    "        return [len(list(y for y in x if y[-1].isdigit())) for x in d[word.lower()]]\n",
    "    except KeyError:\n",
    "        # if word not found in cmudict\n",
    "        return [syllables(word)]\n",
    "\n",
    "\n",
    "def fresDescr(score):\n",
    "    '''\n",
    "    Flesch reading ease score 的含义\n",
    "    输入：分数\n",
    "    输出：描述语句\n",
    "    '''\n",
    "    score_range = {'Very easy to read. Easily understood by an average 11-year-old student.': 90,\n",
    "                   'Easy to read. Conversational English for consumers.': 80,\n",
    "                   'Fairly easy to read.': 70,\n",
    "                   'Plain English. Easily understood by 13- to 15-year-old students.': 60,\n",
    "                   'Fairly difficult to read.': 50,\n",
    "                   'Difficult to read.': 30,\n",
    "                   'Very difficult to read. Best understood by university graduates.': -1000}\n",
    "    for k, v in score_range.items():\n",
    "        if score >= v:\n",
    "            return k\n",
    "\n",
    "\n",
    "sp = spacy.load('en_core_web_sm')\n",
    "\n",
    "\n",
    "def fresScore(sentence):\n",
    "    '''\n",
    "    Flesch reading ease score 的含义\n",
    "    输入：段落或单个句子\n",
    "    输出：分数\n",
    "    '''\n",
    "    total_syl = 0\n",
    "    punct = 0\n",
    "    sen = sp(sentence)\n",
    "    for i in range(len(sen)):\n",
    "        if (sen[i].pos_ == \"PUNCT\"):\n",
    "            punct = punct + 1\n",
    "            continue\n",
    "        total_syl = total_syl + cmusyl(sen[i].text)[0]\n",
    "    score = 206.835 - 1.015 * ((len(sen) - punct) / len(sent_tokenize(sentence))) - 84.6 * (\n",
    "            total_syl / (len(sen) - punct))\n",
    "    # result = {'No. of sentences':len(sent_tokenize(sentence)),\n",
    "    #         'No. of words':len(sen)-punct,\n",
    "    #         'Average syllables per word':total_syl/(len(sen)-punct),\n",
    "    #         'Readability score':score}\n",
    "    return score\n",
    "    # print(total_syl, sent_tokenize(sentence), len(sen), -punct)\n",
    "\n",
    "\n"
   ]
  },
  {
   "cell_type": "code",
   "execution_count": 9,
   "metadata": {},
   "outputs": [
    {
     "name": "stdout",
     "output_type": "stream",
     "text": [
      " hello world i love listen the song 92.965\n",
      "time: 7.413956880569458\n"
     ]
    }
   ],
   "source": [
    "if __name__ == '__main__':\n",
    "    import time\n",
    "\n",
    "    now = time.time()\n",
    "    sentence = ' hello world i love listen the song'\n",
    "    print(sentence, fresScore(sentence))\n",
    "    end = time.time()\n",
    "    print('time:', end - now)\n"
   ]
  },
  {
   "cell_type": "code",
   "execution_count": 8,
   "metadata": {},
   "outputs": [
    {
     "data": {
      "text/plain": [
       " hello world i love listen the song  dd"
      ]
     },
     "execution_count": 8,
     "metadata": {},
     "output_type": "execute_result"
    }
   ],
   "source": [
    "sentence = ' hello world i love listen the song  dd'\n",
    "sp(sentence)"
   ]
  },
  {
   "cell_type": "code",
   "execution_count": 12,
   "metadata": {},
   "outputs": [
    {
     "name": "stdout",
     "output_type": "stream",
     "text": [
      " "
     ]
    }
   ],
   "source": [
    "%prun fresScore(sentence)"
   ]
  }
 ],
 "metadata": {
  "kernelspec": {
   "display_name": "web1",
   "language": "python",
   "name": "web1"
  },
  "language_info": {
   "codemirror_mode": {
    "name": "ipython",
    "version": 3
   },
   "file_extension": ".py",
   "mimetype": "text/x-python",
   "name": "python",
   "nbconvert_exporter": "python",
   "pygments_lexer": "ipython3",
   "version": "3.6.2"
  },
  "toc": {
   "base_numbering": 1,
   "nav_menu": {},
   "number_sections": true,
   "sideBar": true,
   "skip_h1_title": false,
   "title_cell": "Table of Contents",
   "title_sidebar": "Contents",
   "toc_cell": false,
   "toc_position": {},
   "toc_section_display": true,
   "toc_window_display": false
  }
 },
 "nbformat": 4,
 "nbformat_minor": 2
}
